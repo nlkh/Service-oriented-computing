{
 "cells": [
  {
   "cell_type": "code",
   "execution_count": null,
   "metadata": {},
   "outputs": [],
   "source": [
    "from flask import Flask, render_template, redirect, url_for, request\n",
    "import requests\n",
    "import json\n",
    "\n",
    "app = Flask(__name__)\n",
    "\n",
    "access_token = \"\"\n",
    "\n",
    "@app.route('/')\n",
    "def hello() :\n",
    "    return \"facebook login\"\n",
    "\n",
    "@app.route('/fb-login')\n",
    "def fblogin() :\n",
    "    code = str(request.args.get('code'))\n",
    "    url = \"https://www.facebook.com/v9.0/dialog/oauth?client_id=\""
   ]
  }
 ],
 "metadata": {
  "kernelspec": {
   "display_name": "Python 3",
   "language": "python",
   "name": "python3"
  },
  "language_info": {
   "codemirror_mode": {
    "name": "ipython",
    "version": 3
   },
   "file_extension": ".py",
   "mimetype": "text/x-python",
   "name": "python",
   "nbconvert_exporter": "python",
   "pygments_lexer": "ipython3",
   "version": "3.6.9"
  }
 },
 "nbformat": 4,
 "nbformat_minor": 4
}
